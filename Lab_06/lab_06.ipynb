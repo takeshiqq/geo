{
 "cells": [
  {
   "attachments": {},
   "cell_type": "markdown",
   "metadata": {},
   "source": [
    "### Cписував тут -> https://github.com/konopl1tsky1/geo_data_analisis/blob/main/lab_06/lab_06.ipynb"
   ]
  },
  {
   "cell_type": "code",
   "execution_count": 11,
   "metadata": {},
   "outputs": [],
   "source": [
    "import geopandas\n",
    "import rasterio\n",
    "from shapely.geometry import mapping\n",
    "import json"
   ]
  },
  {
   "cell_type": "code",
   "execution_count": 12,
   "metadata": {},
   "outputs": [],
   "source": [
    "clay_data = rasterio.open('./soil_data/clay.tif')\n",
    "sand_data = rasterio.open('./soil_data/sand.tif')\n",
    "density_data = rasterio.open('./soil_data/density.tif')\n",
    "moisture_data = rasterio.open('./soil_moisture.tif')\n",
    "fields_data = geopandas.read_file(\"./field_centroids.geojson\")"
   ]
  },
  {
   "cell_type": "code",
   "execution_count": 13,
   "metadata": {},
   "outputs": [],
   "source": [
    "field_list = []\n",
    "\n",
    "for index, row in fields_data.iterrows():\n",
    "    id = row['id']\n",
    "    name = row['Name']\n",
    "    centroid = row['geometry'].centroid\n",
    "\n",
    "    lon, lat = centroid.x, centroid.y\n",
    "\n",
    "    row, col = moisture_data.index(lon, lat)\n",
    "    clay = clay_data.read(1)[row, col]\n",
    "    sand = sand_data.read(1)[row, col]\n",
    "    density = density_data.read(1)[row, col]\n",
    "\n",
    "    moisture = moisture_data.read(1)[row, col]\n",
    "\n",
    "    features = {\n",
    "        'type': 'Feature',\n",
    "        'properties': {\n",
    "            'id': id,\n",
    "            'name': name,\n",
    "            'soil': {\n",
    "                'clay': float(clay),\n",
    "                'sand': float(sand),\n",
    "                'density': int(density)\n",
    "            },\n",
    "            'soil_moisture': int(moisture),\n",
    "            'coordinates': {\n",
    "                'lat': float(lat),\n",
    "                'lng': float(lon)\n",
    "            }\n",
    "        },\n",
    "        'geometry': mapping(centroid)\n",
    "    }\n",
    "\n",
    "    field_list.append(features)"
   ]
  },
  {
   "cell_type": "code",
   "execution_count": 14,
   "metadata": {},
   "outputs": [],
   "source": [
    "feature_collection = {\n",
    "    'type': 'FeatureCollection',\n",
    "    'features': field_list\n",
    "}\n",
    "\n",
    "with open('./field_data.geojson', 'w') as f:\n",
    "    json.dump(feature_collection, f, indent=4)"
   ]
  }
 ],
 "metadata": {
  "kernelspec": {
   "display_name": "environment",
   "language": "python",
   "name": "python3"
  },
  "language_info": {
   "codemirror_mode": {
    "name": "ipython",
    "version": 3
   },
   "file_extension": ".py",
   "mimetype": "text/x-python",
   "name": "python",
   "nbconvert_exporter": "python",
   "pygments_lexer": "ipython3",
   "version": "3.10.11"
  },
  "orig_nbformat": 4
 },
 "nbformat": 4,
 "nbformat_minor": 2
}
